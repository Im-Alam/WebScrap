{
 "cells": [
  {
   "cell_type": "code",
   "execution_count": 2,
   "id": "1c21f2a6",
   "metadata": {},
   "outputs": [],
   "source": [
    "import pandas as pd\n",
    "from datetime import datetime\n",
    "import numpy as np"
   ]
  },
  {
   "cell_type": "code",
   "execution_count": 3,
   "id": "880d035b",
   "metadata": {},
   "outputs": [],
   "source": [
    "df = pd.read_csv('uploads/TATAMOTORS.csv')"
   ]
  },
  {
   "cell_type": "code",
   "execution_count": 4,
   "id": "5207335a",
   "metadata": {},
   "outputs": [
    {
     "data": {
      "text/html": [
       "<div>\n",
       "<style scoped>\n",
       "    .dataframe tbody tr th:only-of-type {\n",
       "        vertical-align: middle;\n",
       "    }\n",
       "\n",
       "    .dataframe tbody tr th {\n",
       "        vertical-align: top;\n",
       "    }\n",
       "\n",
       "    .dataframe thead th {\n",
       "        text-align: right;\n",
       "    }\n",
       "</style>\n",
       "<table border=\"1\" class=\"dataframe\">\n",
       "  <thead>\n",
       "    <tr style=\"text-align: right;\">\n",
       "      <th></th>\n",
       "      <th>Datecol</th>\n",
       "      <th>Open</th>\n",
       "      <th>High</th>\n",
       "      <th>Low</th>\n",
       "      <th>Close</th>\n",
       "      <th>Adj Close</th>\n",
       "      <th>Volume</th>\n",
       "    </tr>\n",
       "  </thead>\n",
       "  <tbody>\n",
       "    <tr>\n",
       "      <th>0</th>\n",
       "      <td>2018-07-31</td>\n",
       "      <td>268.950012</td>\n",
       "      <td>270.450012</td>\n",
       "      <td>262.200012</td>\n",
       "      <td>264.100006</td>\n",
       "      <td>263.279449</td>\n",
       "      <td>10026055</td>\n",
       "    </tr>\n",
       "    <tr>\n",
       "      <th>1</th>\n",
       "      <td>2018-08-01</td>\n",
       "      <td>250.000000</td>\n",
       "      <td>268.000000</td>\n",
       "      <td>250.000000</td>\n",
       "      <td>265.049988</td>\n",
       "      <td>264.226471</td>\n",
       "      <td>53282545</td>\n",
       "    </tr>\n",
       "    <tr>\n",
       "      <th>2</th>\n",
       "      <td>2018-08-02</td>\n",
       "      <td>263.450012</td>\n",
       "      <td>266.450012</td>\n",
       "      <td>258.700012</td>\n",
       "      <td>260.850006</td>\n",
       "      <td>260.039551</td>\n",
       "      <td>17421472</td>\n",
       "    </tr>\n",
       "    <tr>\n",
       "      <th>3</th>\n",
       "      <td>2018-08-03</td>\n",
       "      <td>262.149994</td>\n",
       "      <td>263.850006</td>\n",
       "      <td>257.600006</td>\n",
       "      <td>258.450012</td>\n",
       "      <td>257.647003</td>\n",
       "      <td>9041836</td>\n",
       "    </tr>\n",
       "    <tr>\n",
       "      <th>4</th>\n",
       "      <td>2018-08-06</td>\n",
       "      <td>259.950012</td>\n",
       "      <td>261.799988</td>\n",
       "      <td>252.500000</td>\n",
       "      <td>254.050003</td>\n",
       "      <td>253.260666</td>\n",
       "      <td>11371744</td>\n",
       "    </tr>\n",
       "    <tr>\n",
       "      <th>...</th>\n",
       "      <td>...</td>\n",
       "      <td>...</td>\n",
       "      <td>...</td>\n",
       "      <td>...</td>\n",
       "      <td>...</td>\n",
       "      <td>...</td>\n",
       "      <td>...</td>\n",
       "    </tr>\n",
       "    <tr>\n",
       "      <th>1228</th>\n",
       "      <td>2023-07-24</td>\n",
       "      <td>627.950012</td>\n",
       "      <td>634.450012</td>\n",
       "      <td>626.250000</td>\n",
       "      <td>629.250000</td>\n",
       "      <td>627.294922</td>\n",
       "      <td>12247844</td>\n",
       "    </tr>\n",
       "    <tr>\n",
       "      <th>1229</th>\n",
       "      <td>2023-07-25</td>\n",
       "      <td>636.000000</td>\n",
       "      <td>642.500000</td>\n",
       "      <td>633.349976</td>\n",
       "      <td>639.450012</td>\n",
       "      <td>637.463257</td>\n",
       "      <td>13988137</td>\n",
       "    </tr>\n",
       "    <tr>\n",
       "      <th>1230</th>\n",
       "      <td>2023-07-26</td>\n",
       "      <td>640.000000</td>\n",
       "      <td>665.400024</td>\n",
       "      <td>639.000000</td>\n",
       "      <td>641.099976</td>\n",
       "      <td>639.108093</td>\n",
       "      <td>31673714</td>\n",
       "    </tr>\n",
       "    <tr>\n",
       "      <th>1231</th>\n",
       "      <td>2023-07-27</td>\n",
       "      <td>647.000000</td>\n",
       "      <td>648.450012</td>\n",
       "      <td>636.750000</td>\n",
       "      <td>643.700012</td>\n",
       "      <td>641.700012</td>\n",
       "      <td>11696851</td>\n",
       "    </tr>\n",
       "    <tr>\n",
       "      <th>1232</th>\n",
       "      <td>2023-07-28</td>\n",
       "      <td>646.000000</td>\n",
       "      <td>646.000000</td>\n",
       "      <td>631.799988</td>\n",
       "      <td>635.299988</td>\n",
       "      <td>635.299988</td>\n",
       "      <td>9299530</td>\n",
       "    </tr>\n",
       "  </tbody>\n",
       "</table>\n",
       "<p>1233 rows × 7 columns</p>\n",
       "</div>"
      ],
      "text/plain": [
       "         Datecol        Open        High         Low       Close   Adj Close  \\\n",
       "0     2018-07-31  268.950012  270.450012  262.200012  264.100006  263.279449   \n",
       "1     2018-08-01  250.000000  268.000000  250.000000  265.049988  264.226471   \n",
       "2     2018-08-02  263.450012  266.450012  258.700012  260.850006  260.039551   \n",
       "3     2018-08-03  262.149994  263.850006  257.600006  258.450012  257.647003   \n",
       "4     2018-08-06  259.950012  261.799988  252.500000  254.050003  253.260666   \n",
       "...          ...         ...         ...         ...         ...         ...   \n",
       "1228  2023-07-24  627.950012  634.450012  626.250000  629.250000  627.294922   \n",
       "1229  2023-07-25  636.000000  642.500000  633.349976  639.450012  637.463257   \n",
       "1230  2023-07-26  640.000000  665.400024  639.000000  641.099976  639.108093   \n",
       "1231  2023-07-27  647.000000  648.450012  636.750000  643.700012  641.700012   \n",
       "1232  2023-07-28  646.000000  646.000000  631.799988  635.299988  635.299988   \n",
       "\n",
       "        Volume  \n",
       "0     10026055  \n",
       "1     53282545  \n",
       "2     17421472  \n",
       "3      9041836  \n",
       "4     11371744  \n",
       "...        ...  \n",
       "1228  12247844  \n",
       "1229  13988137  \n",
       "1230  31673714  \n",
       "1231  11696851  \n",
       "1232   9299530  \n",
       "\n",
       "[1233 rows x 7 columns]"
      ]
     },
     "execution_count": 4,
     "metadata": {},
     "output_type": "execute_result"
    }
   ],
   "source": [
    "df"
   ]
  },
  {
   "cell_type": "code",
   "execution_count": 5,
   "id": "b3d6fe29",
   "metadata": {},
   "outputs": [
    {
     "name": "stdout",
     "output_type": "stream",
     "text": [
      "<class 'pandas.core.frame.DataFrame'>\n",
      "RangeIndex: 1233 entries, 0 to 1232\n",
      "Data columns (total 7 columns):\n",
      " #   Column     Non-Null Count  Dtype  \n",
      "---  ------     --------------  -----  \n",
      " 0   Datecol    1233 non-null   object \n",
      " 1   Open       1233 non-null   float64\n",
      " 2   High       1233 non-null   float64\n",
      " 3   Low        1233 non-null   float64\n",
      " 4   Close      1233 non-null   float64\n",
      " 5   Adj Close  1233 non-null   float64\n",
      " 6   Volume     1233 non-null   int64  \n",
      "dtypes: float64(5), int64(1), object(1)\n",
      "memory usage: 67.6+ KB\n"
     ]
    }
   ],
   "source": [
    "df.info()"
   ]
  },
  {
   "cell_type": "code",
   "execution_count": 6,
   "id": "dc8b6b2c",
   "metadata": {},
   "outputs": [],
   "source": [
    "def checkFormat(df_):\n",
    "    df = df_.copy()\n",
    "    #Converting column name to lowercase\n",
    "    if df.shape[0]<100:\n",
    "        return \"TOO SHORT DATA\"\n",
    "    \n",
    "    df.columns = [col.lower() for col in df.columns]\n",
    "    required_columns = ['open', 'close', 'high', 'low']\n",
    "\n",
    "    if not all(col in df.columns for col in required_columns):\n",
    "        return \"REQ COLUMNS\"\n",
    "    \n",
    "    # Check if any 'date'-like column exists\n",
    "    date_col = df.filter(like='date').columns[0]\n",
    "    if df.filter(like='date').empty:\n",
    "        return \"DATE NOT FOUND\"\n",
    "    else:\n",
    "        #print((date_col.iloc[1]-date_col.iloc[]))\n",
    "        df[date_col] = [datetime.strptime(date_str, \"%Y-%m-%d\") for date_str in df[date_col]]\n",
    "        return str(min(df.loc[1,date_col]-df.loc[0,date_col], df.loc[2,date_col]-df.loc[1,date_col]))"
   ]
  },
  {
   "cell_type": "code",
   "execution_count": 7,
   "id": "e21fe361",
   "metadata": {},
   "outputs": [
    {
     "data": {
      "text/plain": [
       "'1 days 00:00:00'"
      ]
     },
     "execution_count": 7,
     "metadata": {},
     "output_type": "execute_result"
    }
   ],
   "source": [
    "checkFormat(df)"
   ]
  },
  {
   "cell_type": "code",
   "execution_count": 8,
   "id": "24995df0",
   "metadata": {},
   "outputs": [
    {
     "ename": "ModuleNotFoundError",
     "evalue": "No module named 'bokeh'",
     "output_type": "error",
     "traceback": [
      "\u001b[0;31m---------------------------------------------------------------------------\u001b[0m",
      "\u001b[0;31mModuleNotFoundError\u001b[0m                       Traceback (most recent call last)",
      "Cell \u001b[0;32mIn [8], line 1\u001b[0m\n\u001b[0;32m----> 1\u001b[0m \u001b[38;5;28;01mfrom\u001b[39;00m \u001b[38;5;21;01mbokeh\u001b[39;00m\u001b[38;5;21;01m.\u001b[39;00m\u001b[38;5;21;01mplotting\u001b[39;00m \u001b[38;5;28;01mimport\u001b[39;00m figure, show\n",
      "\u001b[0;31mModuleNotFoundError\u001b[0m: No module named 'bokeh'"
     ]
    }
   ],
   "source": [
    "from bokeh.plotting import figure, show\n"
   ]
  },
  {
   "cell_type": "code",
   "execution_count": 9,
   "id": "7dfb2b89",
   "metadata": {
    "collapsed": true
   },
   "outputs": [
    {
     "ename": "ModuleNotFoundError",
     "evalue": "No module named 'bokeh'",
     "output_type": "error",
     "traceback": [
      "\u001b[0;31m---------------------------------------------------------------------------\u001b[0m",
      "\u001b[0;31mModuleNotFoundError\u001b[0m                       Traceback (most recent call last)",
      "Cell \u001b[0;32mIn [9], line 1\u001b[0m\n\u001b[0;32m----> 1\u001b[0m \u001b[38;5;28;01mimport\u001b[39;00m \u001b[38;5;21;01mbokeh\u001b[39;00m\u001b[38;5;21;01m.\u001b[39;00m\u001b[38;5;21;01mplotting\u001b[39;00m\n",
      "\u001b[0;31mModuleNotFoundError\u001b[0m: No module named 'bokeh'"
     ]
    }
   ],
   "source": [
    "import bokeh.plotting\n"
   ]
  },
  {
   "cell_type": "code",
   "execution_count": 10,
   "id": "83bc574f",
   "metadata": {},
   "outputs": [
    {
     "ename": "ModuleNotFoundError",
     "evalue": "No module named 'beautifulsoup'",
     "output_type": "error",
     "traceback": [
      "\u001b[0;31m---------------------------------------------------------------------------\u001b[0m",
      "\u001b[0;31mModuleNotFoundError\u001b[0m                       Traceback (most recent call last)",
      "Cell \u001b[0;32mIn [10], line 1\u001b[0m\n\u001b[0;32m----> 1\u001b[0m \u001b[38;5;28;01mimport\u001b[39;00m \u001b[38;5;21;01mbeautifulsoup\u001b[39;00m\n",
      "\u001b[0;31mModuleNotFoundError\u001b[0m: No module named 'beautifulsoup'"
     ]
    }
   ],
   "source": [
    "import beautifulsoup"
   ]
  },
  {
   "cell_type": "code",
   "execution_count": 11,
   "id": "27f6c6f1",
   "metadata": {},
   "outputs": [
    {
     "name": "stdout",
     "output_type": "stream",
     "text": [
      "Collecting beautifulsoup4\n",
      "  Downloading beautifulsoup4-4.12.3-py3-none-any.whl (147 kB)\n",
      "\u001b[2K     \u001b[38;2;114;156;31m━━━━━━━━━━━━━━━━━━━━━━━━━━━━━━━━━━━━━━\u001b[0m \u001b[32m147.9/147.9 kB\u001b[0m \u001b[31m73.5 kB/s\u001b[0m eta \u001b[36m0:00:00\u001b[0m31m73.2 kB/s\u001b[0m eta \u001b[36m0:00:01\u001b[0m\n",
      "\u001b[?25hCollecting soupsieve>1.2\n",
      "  Using cached soupsieve-2.5-py3-none-any.whl (36 kB)\n",
      "Installing collected packages: soupsieve, beautifulsoup4\n",
      "Successfully installed beautifulsoup4-4.12.3 soupsieve-2.5\n"
     ]
    }
   ],
   "source": [
    "!pip install beautifulsoup4"
   ]
  },
  {
   "cell_type": "code",
   "execution_count": 12,
   "id": "8071abcf",
   "metadata": {},
   "outputs": [],
   "source": [
    "import bs4"
   ]
  },
  {
   "cell_type": "code",
   "execution_count": 2,
   "id": "aaddd7aa",
   "metadata": {},
   "outputs": [],
   "source": [
    "#sortng dictionary containing dates\n",
    "from datetime import datetime "
   ]
  },
  {
   "cell_type": "code",
   "execution_count": null,
   "id": "14507c47",
   "metadata": {},
   "outputs": [],
   "source": [
    "dict = "
   ]
  }
 ],
 "metadata": {
  "kernelspec": {
   "display_name": "Python 3 (ipykernel)",
   "language": "python",
   "name": "python3"
  },
  "language_info": {
   "codemirror_mode": {
    "name": "ipython",
    "version": 3
   },
   "file_extension": ".py",
   "mimetype": "text/x-python",
   "name": "python",
   "nbconvert_exporter": "python",
   "pygments_lexer": "ipython3",
   "version": "3.11.4"
  }
 },
 "nbformat": 4,
 "nbformat_minor": 5
}
